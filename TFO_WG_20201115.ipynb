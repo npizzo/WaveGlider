{
 "cells": [
  {
   "cell_type": "markdown",
   "metadata": {},
   "source": [
    "Shift 0600-0830 (PT), November 15 2020\n",
    "-------\n",
    "\n",
    "* Only Kelvin is in the water. Monitoring GPS, boat traffic.\n",
    "\n",
    "* Stephen reported having to pilot the glider manually to get it back on course"
   ]
  }
 ],
 "metadata": {
  "kernelspec": {
   "display_name": "MATLAB",
   "language": "matlab",
   "name": "imatlab"
  },
  "language_info": {
   "codemirror_mode": "octave",
   "file_extension": ".m",
   "mimetype": "text/x-matlab",
   "name": "matlab",
   "nbconvert_exporter": "imatlab._exporter.MatlabExporter",
   "pygments_lexer": "matlab",
   "version": "9.9.0.1495850 (R2020b) Update 1"
  }
 },
 "nbformat": 4,
 "nbformat_minor": 4
}
